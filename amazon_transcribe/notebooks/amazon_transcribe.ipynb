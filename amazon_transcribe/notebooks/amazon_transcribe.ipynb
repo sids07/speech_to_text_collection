{
 "cells": [
  {
   "cell_type": "code",
   "execution_count": 1,
   "metadata": {},
   "outputs": [],
   "source": [
    "import pandas as pd\n",
    "import time\n",
    "import boto3"
   ]
  },
  {
   "cell_type": "code",
   "execution_count": 2,
   "metadata": {},
   "outputs": [],
   "source": [
    "transcribe = boto3.client('transcribe')"
   ]
  },
  {
   "cell_type": "code",
   "execution_count": 8,
   "metadata": {},
   "outputs": [],
   "source": [
    "def check_job_name(job_name):\n",
    "    job_verification = True\n",
    "    # all the transcriptions\n",
    "    existed_jobs = transcribe.list_transcription_jobs()\n",
    "    for job in existed_jobs['TranscriptionJobSummaries']:\n",
    "        if job_name == job['TranscriptionJobName']:\n",
    "            job_verification = False\n",
    "            break\n",
    "    if job_verification == False:\n",
    "        command = input(job_name + \" has existed. \\nDo you want to override the existed job (Y/N): \")    \n",
    "        if command.lower() == \"y\" or command.lower() == \"yes\":                \n",
    "            transcribe.delete_transcription_job(TranscriptionJobName=job_name)\n",
    "        elif command.lower() == \"n\" or command.lower() == \"no\":      \n",
    "            job_name = input(\"Insert new job name? \")      \n",
    "            check_job_name(job_name)\n",
    "        else:\n",
    "            print(\"Input can only be (Y/N)\")\n",
    "            command = input(job_name + \" has existed. \\nDo you want to override the existed job (Y/N): \")\n",
    "    return job_name"
   ]
  },
  {
   "cell_type": "code",
   "execution_count": 9,
   "metadata": {},
   "outputs": [],
   "source": [
    "def amazon_transcribe(audio_file_name):\n",
    "    job_uri = \"s3://upacare-dev-ml/1249120_44142156_72079889.wav\"\n",
    "    # Usually, I put like this to automate the process with the file name\n",
    "    # \"s3://bucket_name\" + audio_file_name  \n",
    "    # Usually, file names have spaces and have the file extension like .mp3\n",
    "    # we take only a file name and delete all the space to name the job\n",
    "    job_name = (audio_file_name.split('.')[0]).replace(\" \", \"\")  \n",
    "    # file format  \n",
    "    file_format = audio_file_name.split('.')[1]\n",
    "    \n",
    "    # check if name is taken or not\n",
    "    job_name = check_job_name(job_name)\n",
    "    transcribe.start_transcription_job(\n",
    "        TranscriptionJobName=job_name,\n",
    "        Media={'MediaFileUri': job_uri},\n",
    "        MediaFormat = file_format,\n",
    "        LanguageCode='en-US')\n",
    "    \n",
    "    while True:\n",
    "        result = transcribe.get_transcription_job(TranscriptionJobName=job_name)\n",
    "        if result['TranscriptionJob']['TranscriptionJobStatus'] in ['COMPLETED', 'FAILED']:\n",
    "            break\n",
    "        time.sleep(15)\n",
    "    if result['TranscriptionJob']['TranscriptionJobStatus'] == \"COMPLETED\":\n",
    "        data = pd.read_json(result['TranscriptionJob']['Transcript']['TranscriptFileUri'])\n",
    "    return data['results'][1][0]['transcript']"
   ]
  },
  {
   "cell_type": "code",
   "execution_count": 10,
   "metadata": {},
   "outputs": [
    {
     "name": "stderr",
     "output_type": "stream",
     "text": [
      "/tmp/ipykernel_109803/4254965779.py:26: FutureWarning: Series.__getitem__ treating keys as positions is deprecated. In a future version, integer keys will always be treated as labels (consistent with DataFrame behavior). To access a value by position, use `ser.iloc[pos]`\n",
      "  return data['results'][1][0]['transcript']\n"
     ]
    },
    {
     "data": {
      "text/plain": [
       "'My face is all broken out with pimples. Bye bye.'"
      ]
     },
     "execution_count": 10,
     "metadata": {},
     "output_type": "execute_result"
    }
   ],
   "source": [
    "res = amazon_transcribe(\"1249120_44142156_72079889.wav\")"
   ]
  },
  {
   "cell_type": "code",
   "execution_count": 13,
   "metadata": {},
   "outputs": [],
   "source": [
    "### Medical"
   ]
  },
  {
   "cell_type": "markdown",
   "metadata": {},
   "source": [
    "### Medical"
   ]
  },
  {
   "cell_type": "code",
   "execution_count": 3,
   "metadata": {},
   "outputs": [],
   "source": [
    "def check_medical_job_name(job_name):\n",
    "    job_verification = True\n",
    "    # all the transcriptions\n",
    "    existed_jobs = transcribe.list_medical_transcription_jobs()\n",
    "    for job in existed_jobs['MedicalTranscriptionJobSummaries']:\n",
    "        if job_name == job['MedicalTranscriptionJobName']:\n",
    "            job_verification = False\n",
    "            break\n",
    "    if job_verification == False:\n",
    "        command = input(job_name + \" has existed. \\nDo you want to override the existed job (Y/N): \")    \n",
    "        if command.lower() == \"y\" or command.lower() == \"yes\":                \n",
    "            transcribe.delete_medical_transcription_job(MedicalTranscriptionJobName=job_name)\n",
    "        elif command.lower() == \"n\" or command.lower() == \"no\":      \n",
    "            job_name = input(\"Insert new job name? \")      \n",
    "            check_job_name(job_name)\n",
    "        else:\n",
    "            print(\"Input can only be (Y/N)\")\n",
    "            command = input(job_name + \" has existed. \\nDo you want to override the existed job (Y/N): \")\n",
    "    return job_name"
   ]
  },
  {
   "cell_type": "code",
   "execution_count": 4,
   "metadata": {},
   "outputs": [],
   "source": [
    "def amazon_transcribe_medical(audio_file_name):\n",
    "    job_uri = \"s3://upacare-dev-ml/\"+audio_file_name\n",
    "    # Usually, I put like this to automate the process with the file name\n",
    "    # \"s3://bucket_name\" + audio_file_name  \n",
    "    # Usually, file names have spaces and have the file extension like .mp3\n",
    "    # we take only a file name and delete all the space to name the job\n",
    "    job_name = (audio_file_name.split('.')[0]).replace(\" \", \"\")  \n",
    "    # file format  \n",
    "    file_format = audio_file_name.split('.')[1]\n",
    "    \n",
    "    # check if name is taken or not\n",
    "    job_name = check_medical_job_name(job_name)\n",
    "    transcribe.start_medical_transcription_job(\n",
    "        MedicalTranscriptionJobName=job_name,\n",
    "        Media={'MediaFileUri': job_uri},\n",
    "        MediaFormat = file_format,\n",
    "        LanguageCode='en-US',\n",
    "        Specialty = 'PRIMARYCARE',\n",
    "        Type = 'CONVERSATION',\n",
    "        OutputBucketName=\"upacare-dev-ml\"\n",
    "        )\n",
    "    \n",
    "    while True:\n",
    "        result = transcribe.get_medical_transcription_job(MedicalTranscriptionJobName=job_name)\n",
    "        if result['MedicalTranscriptionJob']['TranscriptionJobStatus'] in ['COMPLETED', 'FAILED']:\n",
    "            break\n",
    "        time.sleep(15)\n",
    "    print(result['MedicalTranscriptionJob']['Transcript']['TranscriptFileUri'])"
   ]
  },
  {
   "cell_type": "code",
   "execution_count": 14,
   "metadata": {},
   "outputs": [
    {
     "name": "stdout",
     "output_type": "stream",
     "text": [
      "https://s3.us-east-1.amazonaws.com/upacare-dev-ml/medical/D0421-S1-T05.json\n",
      "None\n"
     ]
    }
   ],
   "source": [
    "res = amazon_transcribe_medical(\"D0421-S1-T05.wav\")\n",
    "print(res)"
   ]
  },
  {
   "cell_type": "code",
   "execution_count": 6,
   "metadata": {},
   "outputs": [],
   "source": [
    "s3_client = boto3.client(\"s3\")\n"
   ]
  },
  {
   "cell_type": "code",
   "execution_count": 15,
   "metadata": {},
   "outputs": [],
   "source": [
    "s3_client.download_file(\n",
    "                    Filename=\"/home/fm-pc-lt-228/Desktop/upacare/speech-to-speech/speech_to_text/D0421-S1-T05.json\",\n",
    "                    Bucket= \"upacare-dev-ml\",\n",
    "                    Key= \"medical/D0421-S1-T05.json\"\n",
    "                )"
   ]
  },
  {
   "cell_type": "code",
   "execution_count": null,
   "metadata": {},
   "outputs": [],
   "source": []
  }
 ],
 "metadata": {
  "kernelspec": {
   "display_name": "sts",
   "language": "python",
   "name": "python3"
  },
  "language_info": {
   "codemirror_mode": {
    "name": "ipython",
    "version": 3
   },
   "file_extension": ".py",
   "mimetype": "text/x-python",
   "name": "python",
   "nbconvert_exporter": "python",
   "pygments_lexer": "ipython3",
   "version": "3.9.18"
  },
  "orig_nbformat": 4
 },
 "nbformat": 4,
 "nbformat_minor": 2
}
